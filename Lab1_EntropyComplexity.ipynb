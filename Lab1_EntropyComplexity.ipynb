{
  "nbformat": 4,
  "nbformat_minor": 0,
  "metadata": {
    "colab": {
      "provenance": [],
      "collapsed_sections": [
        "08H5ewPkrx-J",
        "5a9116d3",
        "5e1408be",
        "6a29c94b",
        "S1QFRlFE0icg",
        "AFPpN5MF3Vl5",
        "hDmfxkoABkL-"
      ]
    },
    "kernelspec": {
      "name": "python3",
      "display_name": "Python 3"
    },
    "language_info": {
      "name": "python"
    }
  },
  "cells": [
    {
      "cell_type": "markdown",
      "source": [
        "### Imports"
      ],
      "metadata": {
        "id": "fQ-nXTd-rwPK"
      }
    },
    {
      "cell_type": "code",
      "execution_count": 1,
      "metadata": {
        "id": "PGiaQcWVnMhw"
      },
      "outputs": [],
      "source": [
        "import numpy as np\n",
        "import matplotlib.pyplot as plt\n",
        "import numpy as np"
      ]
    },
    {
      "cell_type": "markdown",
      "source": [
        "### Time series generation"
      ],
      "metadata": {
        "id": "08H5ewPkrx-J"
      }
    },
    {
      "cell_type": "markdown",
      "metadata": {
        "id": "5a9116d3"
      },
      "source": [
        "#### Chaotic Dataset"
      ]
    },
    {
      "cell_type": "code",
      "execution_count": 10,
      "metadata": {
        "id": "e5378af7"
      },
      "outputs": [],
      "source": [
        "# Skew tent map\n",
        "def skew_tent_map(n=2**15, omega=0.1847, x0=.5):\n",
        "    x = np.zeros(n)\n",
        "    x[0] = x0\n",
        "    for i in range(1, len(x)):\n",
        "        if x[i-1] < omega:\n",
        "            x[i] = x[i-1]/omega\n",
        "        else:\n",
        "            x[i] = (1-x[i-1])/(1-omega)\n",
        "    return x"
      ]
    },
    {
      "cell_type": "code",
      "execution_count": 11,
      "metadata": {
        "id": "d5faad50"
      },
      "outputs": [],
      "source": [
        "# Logistic map\n",
        "def logistic_map(n=2**15, r=4, x0=.4):\n",
        "    x = np.zeros(n)\n",
        "    x[0] = x0\n",
        "    for i in range(n-1):\n",
        "        x[i+1] = r*x[i]*(1-x[i])\n",
        "    return x"
      ]
    },
    {
      "cell_type": "code",
      "execution_count": 12,
      "metadata": {
        "id": "1ac642be"
      },
      "outputs": [],
      "source": [
        "# Schuster's map\n",
        "def schuster_map(n=2**15, z=2, x0=.5):\n",
        "    z = float(z)\n",
        "    x = np.zeros(n)\n",
        "    x[0] = x0\n",
        "    for i in range(1, n):\n",
        "        x[i], _ = np.modf(x[i-1] + x[i-1]**z)\n",
        "    return x"
      ]
    },
    {
      "cell_type": "code",
      "execution_count": 13,
      "metadata": {
        "id": "5c04ce2d"
      },
      "outputs": [],
      "source": [
        "# Henon map\n",
        "def henon_map(n=1000000, a=1.4, b=0.3, x0=0.2 ,y0=0.1):\n",
        "    x = np.zeros(n)\n",
        "    y = np.zeros(n)\n",
        "    x[0] = x0\n",
        "    y[0] = y0\n",
        "    for i in range(1, len(x)):\n",
        "        x[i] = 1 - a * x[i-1] ** 2 + y[i-1]\n",
        "        y[i] = b * x[i-1]\n",
        "    return x"
      ]
    },
    {
      "cell_type": "markdown",
      "metadata": {
        "id": "5e1408be"
      },
      "source": [
        "#### Sine Dataset (Deterministic)"
      ]
    },
    {
      "cell_type": "code",
      "execution_count": 14,
      "metadata": {
        "id": "face3b8b"
      },
      "outputs": [],
      "source": [
        "sine_data = np.sin(np.arange(0,1000,.01))"
      ]
    },
    {
      "cell_type": "markdown",
      "metadata": {
        "id": "6a29c94b"
      },
      "source": [
        "#### Gaussian Noise (Stochastic)"
      ]
    },
    {
      "cell_type": "code",
      "execution_count": 15,
      "metadata": {
        "id": "e7beb4b9"
      },
      "outputs": [],
      "source": [
        "gaussian_noise = np.random.normal(size=100000)"
      ]
    },
    {
      "cell_type": "markdown",
      "source": [
        "#### Lorenz"
      ],
      "metadata": {
        "id": "S1QFRlFE0icg"
      }
    },
    {
      "cell_type": "code",
      "source": [
        "file_path = 'lorenz.txt'\n",
        "\n",
        "# Read data from the file into a NumPy array\n",
        "with open(file_path, 'r') as file:\n",
        "    # Use numpy to convert the lines into a 1D array of floats\n",
        "    lorenz = np.array([float(line.strip()) for line in file.readlines()])\n",
        "\n",
        "# Print the resulting NumPy array\n",
        "print(lorenz)"
      ],
      "metadata": {
        "colab": {
          "base_uri": "https://localhost:8080/"
        },
        "id": "zGkPwAQy0htb",
        "outputId": "300d3558-74ae-4c12-e344-4d034e31eedc"
      },
      "execution_count": 16,
      "outputs": [
        {
          "output_type": "stream",
          "name": "stdout",
          "text": [
            "[0.53696553 0.57039027 0.68672766 ... 0.6160236  0.71350847 0.86349486]\n"
          ]
        }
      ]
    },
    {
      "cell_type": "markdown",
      "source": [
        "### Main functions"
      ],
      "metadata": {
        "id": "BmpwyYMKocJF"
      }
    },
    {
      "cell_type": "code",
      "source": [
        "def coompute_coordinates_for_ts(time_series, chunk_len=6, Q0=None):\n",
        "  \"\"\"\n",
        "  C[P] = Qj[P, Pe] * Hs[P] - complexity\n",
        "  P - distribution of ts (length N), Pe uniform distr (length N)\n",
        "  Hs[P] - entropy measuer [0,1]\n",
        "  Qj[P, Pe] - Jonson Shanon divergence\n",
        "  \"\"\"\n",
        "  P = distribution_from_ts(time_series, chunk_len)\n",
        "  Hs = compute_norm_entropy(P)\n",
        "  compl = compute_complexity(P, Q0)\n",
        "  return Hs, compl"
      ],
      "metadata": {
        "id": "ft8KP2uoB6ke"
      },
      "execution_count": 17,
      "outputs": []
    },
    {
      "cell_type": "code",
      "source": [
        "def compute_complexity(P, Q0=None):\n",
        "  \"\"\"\n",
        "  C[P] = Qj[P, Pe] * Hs[P]\n",
        "  P - distribution of ts (length N), Pe uniform distr (length N)\n",
        "  Hs[P] - entropy measuer [0,1]\n",
        "  Qj[P, Pe] - Jonson Shanon divergence\n",
        "  \"\"\"\n",
        "  Hs = compute_norm_entropy(P)\n",
        "  Qj = compute_jonson_shanon_divergence(P, Q0)\n",
        "  complexity = Qj * Hs\n",
        "  return complexity"
      ],
      "metadata": {
        "id": "7d1aV2YcocsB"
      },
      "execution_count": 18,
      "outputs": []
    },
    {
      "cell_type": "code",
      "source": [
        "def compute_norm_entropy(P):\n",
        "    \"\"\"\n",
        "    Hs[P] = S[P]/Smax , where Smax -> S[Pe]=ln(N)\n",
        "    S - shannon entropy\n",
        "    P - prob_distribution\n",
        "    Pe - prob_uniform_distribution\n",
        "    \"\"\"\n",
        "    Hs = compute_shannon_entropy(P) / np.log(P.shape[0])\n",
        "    return Hs"
      ],
      "metadata": {
        "id": "xUzH-3GlvtP2"
      },
      "execution_count": 19,
      "outputs": []
    },
    {
      "cell_type": "code",
      "source": [
        "def compute_shannon_entropy(P):\n",
        "    \"\"\"\n",
        "    S[P] = sum_0toN(-pj * ln(pj))\n",
        "    P - prob_distribution\n",
        "    \"\"\"\n",
        "    P_not0= P[P!=0]\n",
        "    entropy = np.sum(P_not0 * np.log(P_not0))\n",
        "    return - entropy"
      ],
      "metadata": {
        "id": "Nj0xQhocu3mX"
      },
      "execution_count": 20,
      "outputs": []
    },
    {
      "cell_type": "code",
      "source": [
        "def compute_jonson_shanon_divergence(P, Pe, Q0=None):\n",
        "    \"\"\"\n",
        "    Qj[P, Pe] = Q0{S[(P+Pe)/2] - S[P]/2 - S[Pe]}/2\n",
        "    S - shannon entropy\n",
        "    Q0 -normalisation constant [0,1]\n",
        "    Qj -disiquilibrium [0,1]\n",
        "    P - prob_distribution\n",
        "    Pe - prob_uniform_distribution\n",
        "    \"\"\"\n",
        "    if Q0 is None:\n",
        "        N = P.shape[0]\n",
        "        Q0 = -2 /(((N+1)/N)*np.log(N+1) - 2*np.log(2*N) + np.log(N) )\n",
        "\n",
        "    Pe = np.ones(P.shape[0]) * 1/P.shape[0]\n",
        "    Qj = Q0 * (compute_shannon_entropy((P + Pe)*0.5) - 0.5*compute_shannon_entropy(P) - 0.5*compute_shannon_entropy(Pe))\n",
        "    return Qj"
      ],
      "metadata": {
        "id": "PHrW-32LwYAq"
      },
      "execution_count": 21,
      "outputs": []
    },
    {
      "cell_type": "code",
      "source": [
        "import math\n",
        "import itertools\n",
        "def distribution_from_ts(time_series, chunk_len=6):\n",
        "    \"\"\"\n",
        "    Time series (len m) divide to chunks (len ch).\n",
        "    Amount of chuncks is m-ch+1\n",
        "    [[x0,..,xch],[x1,..,xch+1],..,[xm-ch,..,xm-1]]\n",
        "    Create all posible permutations (amount is chunks_len!) of length chunks (binary [0,0,1,0,0], or digital [1,2,5,4,3])\n",
        "    Compute frequensy for this pattern in TS patern_freq[10, 4, 0, 2, 4, 0,...].\n",
        "    And convert it to probability distribution\n",
        "    \"\"\"\n",
        "    chunks = split_into_chunks(time_series, chunk_len=chunk_len)\n",
        "    # convert to pattern view\n",
        "    chunks = np.argsort(chunks)\n",
        "    # count pattern frequency\n",
        "    patterns , patterns_count = np.unique(chunks, axis=0, return_counts=True)\n",
        "    # create dict for save counts\n",
        "    permutations_dict = {prm: 0 for prm in itertools.permutations(range(0, chunk_len))}\n",
        "    # save our frequency to dict\n",
        "    for pattern, count in zip(patterns, patterns_count):\n",
        "        permutations_dict[tuple(pattern)] = count\n",
        "    # take freq array\n",
        "    freq_array = np.array(list(permutations_dict.values()))\n",
        "    P = freq_array/freq_array.sum()\n",
        "    #assert P.sum()==1\n",
        "    #assert len(permutations_dict) == math.factorial(chunk_len)\n",
        "    return P"
      ],
      "metadata": {
        "id": "uk-328do18Z-"
      },
      "execution_count": 31,
      "outputs": []
    },
    {
      "cell_type": "code",
      "source": [
        "def split_into_chunks(time_series, chunk_len=5, shift=1):\n",
        "    \"\"\"\n",
        "    Time series (len m) divide to chunks (len ch).\n",
        "    Amount of chuncks is m-ch+1\n",
        "    [[x0,..,xch],[x1,..,xch+1],..,[xm-ch,..,xm-1]]\n",
        "    \"\"\"\n",
        "    chunks = []\n",
        "    for i in range(0, len(time_series) - chunk_len + 1, shift):\n",
        "        chunks.append(time_series[i:i + chunk_len])\n",
        "    assert len(chunks)== time_series.shape[0] - chunk_len + 1\n",
        "    #assert time_series[0]==chunks[0][0] and time_series[-1]==chunks[-1][-1] and time_series[chunk_len]==chunks[0][-1]\n",
        "    return np.array(chunks)"
      ],
      "metadata": {
        "id": "x4qa3-qP5LBk"
      },
      "execution_count": 32,
      "outputs": []
    },
    {
      "cell_type": "markdown",
      "source": [
        "### Count bounders lines"
      ],
      "metadata": {
        "id": "AFPpN5MF3Vl5"
      }
    },
    {
      "cell_type": "code",
      "source": [
        "def upper_bound_coordinates(d=6, n_steps=500, Q0=None):\n",
        "    \"\"\"\n",
        "    For min bound:\n",
        "    # Create a distribution where one state has probability pk and the rest have equal probability for the remaining 1-pk\n",
        "    # Generate a range of probability values\n",
        "    probability_range = np.linspace(1 / total_states, 1, num_points)\n",
        "    For max bound:\n",
        "    probability_range = np.linspace(0, 1 / total_states, num_points)\n",
        "    \"\"\"\n",
        "    N = math.factorial(d)\n",
        "    step = (1 - 1/N) / n_steps\n",
        "\n",
        "    x_coordinates = [] # entropy\n",
        "    y_coordinates = [] # complexity\n",
        "\n",
        "    for n in range(N - 1):\n",
        "        p_max = list(np.arange(0, 1 / (N-n), step))\n",
        "\n",
        "        for m in range(len(p_max)):\n",
        "            P_maximize = list()\n",
        "            P_maximize.append(p_max[m])\n",
        "            p_rest = (1 - p_max[m]) / (N-n-1)\n",
        "\n",
        "            for i in range(N-n-1):\n",
        "                P_maximize.append(p_rest)\n",
        "            if len(P_maximize) != N:\n",
        "                P_maximize = np.pad(P_maximize, (0, n), mode='constant')\n",
        "\n",
        "            P_maximize = np.array(P_maximize)\n",
        "            x_coordinates.append(compute_norm_entropy(P_maximize))\n",
        "            y_coordinates.append(compute_complexity(P_maximize, Q0=Q0))\n",
        "\n",
        "    return np.array(x_coordinates), np.array(y_coordinates)"
      ],
      "metadata": {
        "id": "u4yHOuOjxj3c"
      },
      "execution_count": 33,
      "outputs": []
    },
    {
      "cell_type": "code",
      "source": [
        "def lower_bound_coordinates(d=6, n_steps=100, Q0=None):\n",
        "    \"\"\"\n",
        "    For min bound:\n",
        "    # Create a distribution where one state has probability pk and the rest have equal probability for the remaining 1-pk\n",
        "    # Generate a range of probability values\n",
        "    probability_range = np.linspace(1 / total_states, 1, num_points)\n",
        "    \"\"\"\n",
        "    N = math.factorial(d)\n",
        "    step = (1 - 1/N) / n_steps\n",
        "\n",
        "    x_coordinates = [] # entropy\n",
        "    y_coordinates = [] # complexity\n",
        "\n",
        "    p_min = list(np.arange(1/N, 1, step))\n",
        "\n",
        "    for n in range(len(p_min)):\n",
        "        P_minimize = []\n",
        "\n",
        "        if p_min[n] > 1:\n",
        "            p_min[n] = 1\n",
        "\n",
        "        P_minimize.append(p_min[n])\n",
        "\n",
        "        for i in range(N - 1):\n",
        "            p_rest = (1 - p_min[n]) / (N-1)\n",
        "            P_minimize.append(p_rest)\n",
        "\n",
        "        P_minimize = np.array(P_minimize)\n",
        "        x_coordinates.append(compute_norm_entropy(P_minimize))\n",
        "        y_coordinates.append(compute_complexity(P_minimize, Q0=Q0))\n",
        "\n",
        "    return np.array(x_coordinates), np.array(y_coordinates)"
      ],
      "metadata": {
        "id": "ZM5vVrmEyk2X"
      },
      "execution_count": 34,
      "outputs": []
    },
    {
      "cell_type": "markdown",
      "source": [
        "### Draw entropy-complexity plane"
      ],
      "metadata": {
        "id": "bC21bpQnU_eN"
      }
    },
    {
      "cell_type": "code",
      "source": [
        "import matplotlib.pyplot as plt\n",
        "\n",
        "ts_list = [(sine_data, 'sin_ts'),\n",
        "           (gaussian_noise, 'gausNoise_ts'),\n",
        "           (henon_map(), 'henon_map_ts'),\n",
        "           (schuster_map(), 'schuster_map_ts'),\n",
        "           (logistic_map(), 'logistic_map_ts'),\n",
        "           (skew_tent_map(), 'skew_tent_map_ts'),\n",
        "           (lorenz, 'lorenz_ts')]\n",
        "\n",
        "for ts, name in ts_list:\n",
        "  x, y = coompute_coordinates_for_ts(ts, chunk_len=6, Q0=1)\n",
        "  plt.plot(x, y, marker='o', label=name)\n",
        "\n",
        "x_lb, y_lb = lower_bound_coordinates()\n",
        "x_ub, y_ub = upper_bound_coordinates()\n",
        "plt.plot(x_lb, y_lb, 'k')\n",
        "plt.plot(x_ub, y_ub, 'k')\n",
        "\n",
        "# Add title and labels\n",
        "plt.title('Entropy Complexity Plane')\n",
        "plt.xlabel('Entropy')\n",
        "plt.ylabel('Complexity')\n",
        "\n",
        "plt.xlim(-0.02, 1.02)  # Adjust the x-axis limits from 0 to 4\n",
        "plt.ylim(-0.02, 0.52)\n",
        "\n",
        "# Add legend\n",
        "plt.legend()\n",
        "\n",
        "# Display the plot\n",
        "plt.show()"
      ],
      "metadata": {
        "colab": {
          "base_uri": "https://localhost:8080/",
          "height": 472
        },
        "outputId": "7f6af697-4d58-4c26-8a66-b79a16ddea77",
        "id": "C9h6aMhJ3QG5"
      },
      "execution_count": 36,
      "outputs": [
        {
          "output_type": "display_data",
          "data": {
            "text/plain": [
              "<Figure size 640x480 with 1 Axes>"
            ],
            "image/png": "[encoded data removed]"
          },
          "metadata": {}
        }
      ]
    }
  ]
}
